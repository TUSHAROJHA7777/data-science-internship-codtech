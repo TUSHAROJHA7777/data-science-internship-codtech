{
 "cells": [
  {
   "cell_type": "code",
   "execution_count": null,
   "id": "04478528",
   "metadata": {},
   "outputs": [],
   "source": []
  },
  {
   "cell_type": "markdown",
   "id": "a2968017",
   "metadata": {},
   "source": []
  }
 ],
 "metadata": {
  "language_info": {
   "name": "python"
  }
 },
 "nbformat": 4,
 "nbformat_minor": 5
}
